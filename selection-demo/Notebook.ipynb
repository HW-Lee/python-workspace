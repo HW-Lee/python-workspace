{
 "cells": [
  {
   "cell_type": "code",
   "execution_count": 1,
   "metadata": {},
   "outputs": [],
   "source": [
    "class Selections(object):\n",
    "    def __init__(self, *permut_sets):\n",
    "        self.permut_sets = permut_sets\n",
    "        self.genorator = self._generator()\n",
    "        \n",
    "    def _inc(self, indices, idx):\n",
    "        if indices[idx] == len(self.permut_sets[idx])-1 and idx > 0:\n",
    "            self._inc(indices, idx-1)\n",
    "        indices[idx] = (indices[idx] + 1) % len(self.permut_sets[idx])\n",
    "        \n",
    "    def _generator(self):\n",
    "        idices = [0] * len(self.permut_sets)\n",
    "        while True:\n",
    "            s = []\n",
    "            for i, permut_set in enumerate(self.permut_sets):\n",
    "                idx = idices[i]\n",
    "                s.append(permut_set[idx])\n",
    "            yield s\n",
    "\n",
    "            self._inc(idices, len(idices)-1)\n",
    "            if sum(idices) == 0:\n",
    "                break\n",
    "                \n",
    "    def get_next(self):\n",
    "        try:\n",
    "            return next(self.genorator)\n",
    "        except StopIteration:\n",
    "            return None"
   ]
  },
  {
   "cell_type": "code",
   "execution_count": 2,
   "metadata": {},
   "outputs": [
    {
     "name": "stdout",
     "output_type": "stream",
     "text": [
      "['1', '0', '0']\n",
      "['1', '0', '1']\n",
      "['1', '1', '0']\n",
      "['1', '1', '1']\n",
      "['1', '2', '0']\n",
      "['1', '2', '1']\n",
      "['2', '0', '0']\n",
      "['2', '0', '1']\n",
      "['2', '1', '0']\n",
      "['2', '1', '1']\n",
      "['2', '2', '0']\n",
      "['2', '2', '1']\n"
     ]
    }
   ],
   "source": [
    "p = Selections(['1', '2'], ['0', '1', '2'], ['0', '1'])\n",
    "item = p.get_next()\n",
    "\n",
    "while item:\n",
    "    print(item)\n",
    "    item = p.get_next()"
   ]
  },
  {
   "cell_type": "code",
   "execution_count": 3,
   "metadata": {},
   "outputs": [
    {
     "name": "stdout",
     "output_type": "stream",
     "text": [
      "['1', '0', '0']\n",
      "['1', '0', '1']\n",
      "['1', '1', '0']\n",
      "['1', '1', '1']\n",
      "['1', '2', '0']\n",
      "['1', '2', '1']\n",
      "['2', '0', '0']\n",
      "['2', '0', '1']\n",
      "['2', '1', '0']\n",
      "['2', '1', '1']\n",
      "['2', '2', '0']\n",
      "['2', '2', '1']\n"
     ]
    }
   ],
   "source": [
    "args = [\n",
    "    ['1', '2'],\n",
    "    ['0', '1', '2'],\n",
    "    ['0', '1']\n",
    "]\n",
    "\n",
    "p = Selections(*args)\n",
    "item = p.get_next()\n",
    "\n",
    "while item:\n",
    "    print(item)\n",
    "    item = p.get_next()"
   ]
  },
  {
   "cell_type": "code",
   "execution_count": 4,
   "metadata": {},
   "outputs": [
    {
     "name": "stdout",
     "output_type": "stream",
     "text": [
      "[0, 0, 0]\n",
      "[0, 0, 1]\n",
      "[0, 1, 0]\n",
      "[0, 1, 1]\n",
      "[1, 0, 0]\n",
      "[1, 0, 1]\n",
      "[1, 1, 0]\n",
      "[1, 1, 1]\n",
      "[2, 0, 0]\n",
      "[2, 0, 1]\n",
      "[2, 1, 0]\n",
      "[2, 1, 1]\n"
     ]
    }
   ],
   "source": [
    "args = [\n",
    "    range(3),\n",
    "    range(2),\n",
    "    range(2)\n",
    "]\n",
    "\n",
    "p = Selections(*args)\n",
    "item = p.get_next()\n",
    "\n",
    "while item:\n",
    "    print(item)\n",
    "    item = p.get_next()"
   ]
  }
 ],
 "metadata": {
  "kernelspec": {
   "display_name": "Python 3",
   "language": "python",
   "name": "python3"
  },
  "language_info": {
   "codemirror_mode": {
    "name": "ipython",
    "version": 3
   },
   "file_extension": ".py",
   "mimetype": "text/x-python",
   "name": "python",
   "nbconvert_exporter": "python",
   "pygments_lexer": "ipython3",
   "version": "3.7.3"
  }
 },
 "nbformat": 4,
 "nbformat_minor": 2
}
